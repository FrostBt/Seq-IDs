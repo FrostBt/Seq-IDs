{
  "nbformat": 4,
  "nbformat_minor": 0,
  "metadata": {
    "colab": {
      "provenance": [],
      "authorship_tag": "ABX9TyOWkzK0uRFDfuc9pHOrgXJW",
      "include_colab_link": true
    },
    "kernelspec": {
      "name": "python3",
      "display_name": "Python 3"
    },
    "language_info": {
      "name": "python"
    }
  },
  "cells": [
    {
      "cell_type": "markdown",
      "metadata": {
        "id": "view-in-github",
        "colab_type": "text"
      },
      "source": [
        "<a href=\"https://colab.research.google.com/github/FrostBt/Seq-IDs/blob/main/script1.ipynb\" target=\"_parent\"><img src=\"https://colab.research.google.com/assets/colab-badge.svg\" alt=\"Open In Colab\"/></a>"
      ]
    },
    {
      "cell_type": "code",
      "execution_count": null,
      "metadata": {
        "id": "p4b6EcRTQrQc"
      },
      "outputs": [],
      "source": [
        "import argparse\n",
        "\n",
        "def read_fasta(filename):\n",
        "    sequences = []\n",
        "    current_seq = None\n",
        "    with open(filename, \"r\") as fasta_file:\n",
        "        for line in fasta_file:\n",
        "            line = line.strip()\n",
        "            if line.startswith(\">\"):\n",
        "                if current_seq:\n",
        "                    sequences.append(current_seq)\n",
        "                current_seq = {\"ID\": line[1:], \"Sequência\": \"\", \"Descrição\": \"\"}\n",
        "            else:\n",
        "                current_seq[\"Sequência\"] += line\n",
        "        if current_seq:\n",
        "            sequences.append(current_seq)\n",
        "    return sequences\n",
        "\n",
        "def count_nucleotides(sequence):\n",
        "    count_a = sequence.count(\"A\")\n",
        "    count_t = sequence.count(\"T\")\n",
        "    count_c = sequence.count(\"C\")\n",
        "    count_g = sequence.count(\"G\")\n",
        "    return count_a, count_t, count_c, count_g\n",
        "\n",
        "def main(args):\n",
        "    if args.input_file:\n",
        "        sequences = read_fasta(args.input_file)\n",
        "    else:\n",
        "        sequences = []\n",
        "        for i in range(args.num_sequences):\n",
        "            dna_seq = args.sequences[i]\n",
        "            dna_id = args.ids[i]\n",
        "            dna_desc = args.descriptions[i] if args.descriptions else \"\"\n",
        "            sequences.append({\"ID\": dna_id, \"Sequência\": dna_seq, \"Descrição\": dna_desc})\n",
        "\n",
        "    for seq in sequences:\n",
        "        if not seq[\"ID\"]:\n",
        "            raise ValueError(\"O ID não pode estar em branco\")\n",
        "        if set(seq[\"Sequência\"]) - set(\"ATCG\"):\n",
        "            raise ValueError(\"A sequência de DNA deve conter apenas as letras 'A', 'T', 'C' e 'G'\")\n",
        "\n",
        "    for seq in sequences:\n",
        "        count_a, count_t, count_c, count_g = count_nucleotides(seq[\"Sequência\"])\n",
        "        seq[\"Contagem\"] = {\"A\": count_a, \"T\": count_t, \"C\": count_c, \"G\": count_g}\n",
        "\n",
        "    if args.output_file:\n",
        "        filename = args.output_file\n",
        "    else:\n",
        "        filename = \"sequences.fasta\"\n",
        "\n",
        "    with open(filename, \"w\") as fasta_file:\n",
        "        for seq in sequences:\n",
        "            header = f\">{seq['ID']}|{seq['Descrição']}|A:{seq['Contagem']['A']}|T:{seq['Contagem']['T']}|C:{seq['Contagem']['C']}|G:{seq['Contagem']['G']}\"\n",
        "            fasta_file.write(f\"{header}\\n{seq['Sequência']}\\n\")\n",
        "\n",
        "    print(f\"Sequências salvas no arquivo '{filename}'.\")\n",
        "\n",
        "if __name__ == \"__main__\":\n",
        "    parser = argparse.ArgumentParser(description=\"Processa sequências de DNA e gera um arquivo FASTA.\")\n",
        "    parser.add_argument(\"--input-file\", help=\"Arquivo FASTA de entrada\")\n",
        "    parser.add_argument(\"--output-file\", help=\"Nome do arquivo FASTA de saída\")\n",
        "    parser.add_argument(\"--sequences\", nargs=\"+\", help=\"Sequências de DNA\")\n",
        "    parser.add_argument(\"--ids\", nargs=\"+\", help=\"IDs das sequências\")\n",
        "    parser.add_argument(\"--descriptions\", nargs=\"+\", help=\"Descrições das sequências\")\n",
        "    parser.add_argument(\"--num-sequences\", type=int, default=1, help=\"Número total de sequências\")\n",
        "    args = parser.parse_args()\n",
        "    main(args)\n",
        "\n"
      ]
    }
  ]
}