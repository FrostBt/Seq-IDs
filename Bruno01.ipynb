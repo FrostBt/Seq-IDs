{
  "nbformat": 4,
  "nbformat_minor": 0,
  "metadata": {
    "colab": {
      "provenance": [],
      "include_colab_link": true
    },
    "kernelspec": {
      "name": "python3",
      "display_name": "Python 3"
    },
    "language_info": {
      "name": "python"
    }
  },
  "cells": [
    {
      "cell_type": "markdown",
      "metadata": {
        "id": "view-in-github",
        "colab_type": "text"
      },
      "source": [
        "<a href=\"https://colab.research.google.com/github/FrostBt/Seq-IDs/blob/main/Bruno01.ipynb\" target=\"_parent\"><img src=\"https://colab.research.google.com/assets/colab-badge.svg\" alt=\"Open In Colab\"/></a>"
      ]
    },
    {
      "cell_type": "code",
      "source": [
        "import pandas as pd"
      ],
      "metadata": {
        "id": "EN43cTCnOiRs"
      },
      "execution_count": null,
      "outputs": []
    },
    {
      "cell_type": "code",
      "execution_count": null,
      "metadata": {
        "colab": {
          "base_uri": "https://localhost:8080/"
        },
        "id": "yk6m8ZjyNgGZ",
        "outputId": "e682513a-5383-4e43-a3cf-d6be20feb19f"
      },
      "outputs": [
        {
          "name": "stdout",
          "output_type": "stream",
          "text": [
            "Insira uma sequência de DNA: ATCGTTC\n",
            "Insira um ID para a sequência: 1\n",
            "Insira uma breve descrição para a sequência (opcional): teste\n",
            "Deseja inserir mais alguma sequência? (S/N): n\n"
          ]
        }
      ],
      "source": [
        " sequences = [] # lista vazia para armazenar as sequências\n",
        "while True:\n",
        "    dna_seq = input(\"Insira uma sequência de DNA: \")\n",
        "    dna_id = input(\"Insira um ID para a sequência: \")\n",
        "    dna_desc = input(\"Insira uma breve descrição para a sequência (opcional): \")\n",
        "    # adiciona a sequência, o ID e a descrição ao dicionário e, em seguida, à lista\n",
        "    sequences.append({\"ID\": dna_id, \"Sequência\": dna_seq, \"Descrição\": dna_desc})\n",
        "    cont = input(\"Deseja inserir mais alguma sequência? (S/N): \")\n",
        "\n",
        "    if cont.upper() == \"N\":\n",
        "        break\n",
        "\n"
      ]
    },
    {
      "cell_type": "code",
      "source": [
        "for seq in sequences:\n",
        "    if not seq[\"ID\"]: # verifica se o ID está em branco\n",
        "        raise ValueError(\"O ID não pode estar em branco\")\n",
        "    if set(seq[\"Sequência\"]) - set(\"ATCG\"): # verifica se a sequência possui letras inválidas\n",
        "        raise ValueError(\"A sequência de DNA deve conter apenas as letras 'A', 'T', 'C' e 'G'\")\n",
        "\n"
      ],
      "metadata": {
        "id": "aE5LexF8OXCn"
      },
      "execution_count": null,
      "outputs": []
    },
    {
      "cell_type": "code",
      "source": [
        "for seq in sequences:\n",
        "    count_a = seq[\"Sequência\"].count(\"A\")\n",
        "    count_t = seq[\"Sequência\"].count(\"T\")\n",
        "    count_c = seq[\"Sequência\"].count(\"C\")\n",
        "    count_g = seq[\"Sequência\"].count(\"G\")\n",
        "    seq[\"Contagem\"] = {\"A\": count_a, \"T\": count_t, \"C\": count_c, \"G\": count_g}"
      ],
      "metadata": {
        "id": "XcIHpWWyOaLq"
      },
      "execution_count": null,
      "outputs": []
    },
    {
      "cell_type": "code",
      "source": [
        "with open(\"sequences.fasta\", \"w\") as fasta_file:\n",
        "    for seq in sequences:\n",
        "        header = f\">{seq['ID']}|{seq['Descrição']}|A:{seq['Contagem']['A']}|T:{seq['Contagem']['T']}|C:{seq['Contagem']['C']}|G:{seq['Contagem']['G']}\"\n",
        "        fasta_file.write(f\"{header}\\n{seq['Sequência']}\\n\")\n",
        "\n",
        "        print(f\"{header}\\n{seq['Sequência']}\\n\")"
      ],
      "metadata": {
        "id": "gnFxfvBdObxT",
        "colab": {
          "base_uri": "https://localhost:8080/"
        },
        "outputId": "95434c59-9e14-48ac-f86f-b63525a8f8de"
      },
      "execution_count": null,
      "outputs": [
        {
          "output_type": "stream",
          "name": "stdout",
          "text": [
            ">1|teste|A:1|T:3|C:2|G:1\n",
            "ATCGTTC\n",
            "\n"
          ]
        }
      ]
    },
    {
      "cell_type": "code",
      "source": [
        "seq"
      ],
      "metadata": {
        "colab": {
          "base_uri": "https://localhost:8080/"
        },
        "id": "tYEn6PaSOXqi",
        "outputId": "5b32be63-00d4-48b8-9529-5c91e1ac5e0e"
      },
      "execution_count": null,
      "outputs": [
        {
          "output_type": "execute_result",
          "data": {
            "text/plain": [
              "{'ID': '1',\n",
              " 'Sequência': 'ATCGTTC',\n",
              " 'Descrição': 'teste',\n",
              " 'Contagem': {'A': 1, 'T': 3, 'C': 2, 'G': 1}}"
            ]
          },
          "metadata": {},
          "execution_count": 16
        }
      ]
    },
    {
      "cell_type": "code",
      "source": [
        "df = pd.DataFrame(data=seq)\n",
        "df"
      ],
      "metadata": {
        "colab": {
          "base_uri": "https://localhost:8080/",
          "height": 175
        },
        "id": "37P_MG81OeAx",
        "outputId": "2e2ad94a-5602-4c2f-f8bd-f89d2819713d"
      },
      "execution_count": null,
      "outputs": [
        {
          "output_type": "execute_result",
          "data": {
            "text/plain": [
              "  ID Sequência Descrição  Contagem\n",
              "A  1   ATCGTTC     teste         1\n",
              "C  1   ATCGTTC     teste         2\n",
              "G  1   ATCGTTC     teste         1\n",
              "T  1   ATCGTTC     teste         3"
            ],
            "text/html": [
              "\n",
              "  <div id=\"df-88296bed-4330-478f-a999-19a0d355e0d2\">\n",
              "    <div class=\"colab-df-container\">\n",
              "      <div>\n",
              "<style scoped>\n",
              "    .dataframe tbody tr th:only-of-type {\n",
              "        vertical-align: middle;\n",
              "    }\n",
              "\n",
              "    .dataframe tbody tr th {\n",
              "        vertical-align: top;\n",
              "    }\n",
              "\n",
              "    .dataframe thead th {\n",
              "        text-align: right;\n",
              "    }\n",
              "</style>\n",
              "<table border=\"1\" class=\"dataframe\">\n",
              "  <thead>\n",
              "    <tr style=\"text-align: right;\">\n",
              "      <th></th>\n",
              "      <th>ID</th>\n",
              "      <th>Sequência</th>\n",
              "      <th>Descrição</th>\n",
              "      <th>Contagem</th>\n",
              "    </tr>\n",
              "  </thead>\n",
              "  <tbody>\n",
              "    <tr>\n",
              "      <th>A</th>\n",
              "      <td>1</td>\n",
              "      <td>ATCGTTC</td>\n",
              "      <td>teste</td>\n",
              "      <td>1</td>\n",
              "    </tr>\n",
              "    <tr>\n",
              "      <th>C</th>\n",
              "      <td>1</td>\n",
              "      <td>ATCGTTC</td>\n",
              "      <td>teste</td>\n",
              "      <td>2</td>\n",
              "    </tr>\n",
              "    <tr>\n",
              "      <th>G</th>\n",
              "      <td>1</td>\n",
              "      <td>ATCGTTC</td>\n",
              "      <td>teste</td>\n",
              "      <td>1</td>\n",
              "    </tr>\n",
              "    <tr>\n",
              "      <th>T</th>\n",
              "      <td>1</td>\n",
              "      <td>ATCGTTC</td>\n",
              "      <td>teste</td>\n",
              "      <td>3</td>\n",
              "    </tr>\n",
              "  </tbody>\n",
              "</table>\n",
              "</div>\n",
              "      <button class=\"colab-df-convert\" onclick=\"convertToInteractive('df-88296bed-4330-478f-a999-19a0d355e0d2')\"\n",
              "              title=\"Convert this dataframe to an interactive table.\"\n",
              "              style=\"display:none;\">\n",
              "        \n",
              "  <svg xmlns=\"http://www.w3.org/2000/svg\" height=\"24px\"viewBox=\"0 0 24 24\"\n",
              "       width=\"24px\">\n",
              "    <path d=\"M0 0h24v24H0V0z\" fill=\"none\"/>\n",
              "    <path d=\"M18.56 5.44l.94 2.06.94-2.06 2.06-.94-2.06-.94-.94-2.06-.94 2.06-2.06.94zm-11 1L8.5 8.5l.94-2.06 2.06-.94-2.06-.94L8.5 2.5l-.94 2.06-2.06.94zm10 10l.94 2.06.94-2.06 2.06-.94-2.06-.94-.94-2.06-.94 2.06-2.06.94z\"/><path d=\"M17.41 7.96l-1.37-1.37c-.4-.4-.92-.59-1.43-.59-.52 0-1.04.2-1.43.59L10.3 9.45l-7.72 7.72c-.78.78-.78 2.05 0 2.83L4 21.41c.39.39.9.59 1.41.59.51 0 1.02-.2 1.41-.59l7.78-7.78 2.81-2.81c.8-.78.8-2.07 0-2.86zM5.41 20L4 18.59l7.72-7.72 1.47 1.35L5.41 20z\"/>\n",
              "  </svg>\n",
              "      </button>\n",
              "      \n",
              "  <style>\n",
              "    .colab-df-container {\n",
              "      display:flex;\n",
              "      flex-wrap:wrap;\n",
              "      gap: 12px;\n",
              "    }\n",
              "\n",
              "    .colab-df-convert {\n",
              "      background-color: #E8F0FE;\n",
              "      border: none;\n",
              "      border-radius: 50%;\n",
              "      cursor: pointer;\n",
              "      display: none;\n",
              "      fill: #1967D2;\n",
              "      height: 32px;\n",
              "      padding: 0 0 0 0;\n",
              "      width: 32px;\n",
              "    }\n",
              "\n",
              "    .colab-df-convert:hover {\n",
              "      background-color: #E2EBFA;\n",
              "      box-shadow: 0px 1px 2px rgba(60, 64, 67, 0.3), 0px 1px 3px 1px rgba(60, 64, 67, 0.15);\n",
              "      fill: #174EA6;\n",
              "    }\n",
              "\n",
              "    [theme=dark] .colab-df-convert {\n",
              "      background-color: #3B4455;\n",
              "      fill: #D2E3FC;\n",
              "    }\n",
              "\n",
              "    [theme=dark] .colab-df-convert:hover {\n",
              "      background-color: #434B5C;\n",
              "      box-shadow: 0px 1px 3px 1px rgba(0, 0, 0, 0.15);\n",
              "      filter: drop-shadow(0px 1px 2px rgba(0, 0, 0, 0.3));\n",
              "      fill: #FFFFFF;\n",
              "    }\n",
              "  </style>\n",
              "\n",
              "      <script>\n",
              "        const buttonEl =\n",
              "          document.querySelector('#df-88296bed-4330-478f-a999-19a0d355e0d2 button.colab-df-convert');\n",
              "        buttonEl.style.display =\n",
              "          google.colab.kernel.accessAllowed ? 'block' : 'none';\n",
              "\n",
              "        async function convertToInteractive(key) {\n",
              "          const element = document.querySelector('#df-88296bed-4330-478f-a999-19a0d355e0d2');\n",
              "          const dataTable =\n",
              "            await google.colab.kernel.invokeFunction('convertToInteractive',\n",
              "                                                     [key], {});\n",
              "          if (!dataTable) return;\n",
              "\n",
              "          const docLinkHtml = 'Like what you see? Visit the ' +\n",
              "            '<a target=\"_blank\" href=https://colab.research.google.com/notebooks/data_table.ipynb>data table notebook</a>'\n",
              "            + ' to learn more about interactive tables.';\n",
              "          element.innerHTML = '';\n",
              "          dataTable['output_type'] = 'display_data';\n",
              "          await google.colab.output.renderOutput(dataTable, element);\n",
              "          const docLink = document.createElement('div');\n",
              "          docLink.innerHTML = docLinkHtml;\n",
              "          element.appendChild(docLink);\n",
              "        }\n",
              "      </script>\n",
              "    </div>\n",
              "  </div>\n",
              "  "
            ]
          },
          "metadata": {},
          "execution_count": 21
        }
      ]
    }
  ]
}